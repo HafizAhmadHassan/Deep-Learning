{
 "cells": [
  {
   "attachments": {},
   "cell_type": "markdown",
   "id": "4af0da6a",
   "metadata": {},
   "source": [
    "# Practice Session 6"
   ]
  },
  {
   "attachments": {},
   "cell_type": "markdown",
   "id": "4a751a50",
   "metadata": {},
   "source": [
    "> In this video, I have demonstrated cross validation through an example and then showed you how to implement it in code using the Sklearn library. Cross validation is a powerful technique for evaluating machine learning models by splitting data into training and test sets multiple times. This ensures that each set of data is used as both a training set and a testing set.\n",
    "\n",
    "## Video\n",
    " \n",
    "<iframe width=\"560\" height=\"315\" src=\"https://www.youtube.com/embed/zBCU94Q5pWk\" title=\"YouTube video player\" frameborder=\"0\" allow=\"accelerometer; autoplay; clipboard-write; encrypted-media; gyroscope; picture-in-picture; web-share\" allowfullscreen></iframe>\n",
    "\n",
    "\n",
    "## Objectives:\n",
    "1.  Explaining Cross Validation\n",
    "2. Cross Validation with scikit-learn\n",
    "\n",
    "## Highlights:\n",
    "1. Remaking walkwithfasta course ( https://walkwithfastai.com/ )\n",
    "2. Lesson Three - Part 2: Cross Validation\n",
    "\n",
    "\n",
    "## Resources:\n",
    "1. https://drive.google.com/file/d/116YbPfaYli3XilPxRKloYd3sZmKT-ozT/view?usp=sharing\n",
    "2. https://docs.google.com/presentation/d/1DMQg-yISwmR_TwGcmVAfSCG0OJPUND2T/edit#slide=id.p1\n",
    "\n",
    "\n",
    "\n"
   ]
  },
  {
   "attachments": {},
   "cell_type": "markdown",
   "id": "082d7bcd",
   "metadata": {},
   "source": []
  }
 ],
 "metadata": {
  "kernelspec": {
   "display_name": "Python 3.10.6 64-bit",
   "language": "python",
   "name": "python3"
  },
  "language_info": {
   "name": "python",
   "version": "3.11.2"
  },
  "vscode": {
   "interpreter": {
    "hash": "aee8b7b246df8f9039afb4144a1f6fd8d2ca17a180786b69acc140d282b71a49"
   }
  }
 },
 "nbformat": 4,
 "nbformat_minor": 5
}
